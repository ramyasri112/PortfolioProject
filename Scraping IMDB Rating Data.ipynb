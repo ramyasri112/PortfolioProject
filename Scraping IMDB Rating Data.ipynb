{
 "cells": [
  {
   "cell_type": "markdown",
   "id": "3c754e06",
   "metadata": {},
   "source": [
    "## Importing the Prerequisites"
   ]
  },
  {
   "cell_type": "code",
   "execution_count": 27,
   "id": "8bea104e",
   "metadata": {},
   "outputs": [],
   "source": [
    "import requests\n",
    "from bs4 import BeautifulSoup\n",
    "import pandas as pd\n"
   ]
  },
  {
   "cell_type": "markdown",
   "id": "c358ff40",
   "metadata": {},
   "source": [
    "## Getting the HTML link for website"
   ]
  },
  {
   "cell_type": "markdown",
   "id": "e85db633",
   "metadata": {},
   "source": [
    "**From HTML File , We want the Movie name Part**"
   ]
  },
  {
   "cell_type": "code",
   "execution_count": null,
   "id": "4a6ce133",
   "metadata": {
    "scrolled": false
   },
   "outputs": [],
   "source": [
    "try:\n",
    "    response = requests.get('https://www.imdb.com/chart/top/')\n",
    "    response.raise_for_status()\n",
    "    \n",
    "    soup = BeautifulSoup(response.text, 'html.parser')\n",
    "    print(soup)\n",
    "    \n",
    "except Exception as e:\n",
    "        print (e)\n",
    "        \n"
   ]
  },
  {
   "cell_type": "markdown",
   "id": "f0adf561",
   "metadata": {},
   "source": [
    "**To view the data fetched exactly 250 rows**"
   ]
  },
  {
   "cell_type": "code",
   "execution_count": 29,
   "id": "9596f051",
   "metadata": {
    "scrolled": true
   },
   "outputs": [
    {
     "name": "stdout",
     "output_type": "stream",
     "text": [
      "250\n"
     ]
    }
   ],
   "source": [
    "\n",
    "movies = soup.find('tbody', class_ = \"lister-list\").find_all('tr')\n",
    "print(len(movies)) #to accessing the top 250 movies page , Check the length\n",
    "    "
   ]
  },
  {
   "cell_type": "markdown",
   "id": "a16a294c",
   "metadata": {},
   "source": [
    "**To extract the Titles(name) of Movies**"
   ]
  },
  {
   "cell_type": "code",
   "execution_count": 30,
   "id": "04718373",
   "metadata": {},
   "outputs": [
    {
     "name": "stdout",
     "output_type": "stream",
     "text": [
      "The Shawshank Redemption\n"
     ]
    }
   ],
   "source": [
    "for movie in movies:\n",
    "    name = movie.find('td',class_ = \"titleColumn\").a.text\n",
    "    print(name)\n",
    "    break"
   ]
  },
  {
   "cell_type": "markdown",
   "id": "254d1852",
   "metadata": {},
   "source": [
    "**To extract the rank of the Title**"
   ]
  },
  {
   "cell_type": "code",
   "execution_count": 31,
   "id": "7d218ec5",
   "metadata": {},
   "outputs": [
    {
     "name": "stdout",
     "output_type": "stream",
     "text": [
      "1\n"
     ]
    }
   ],
   "source": [
    "for movie in movies:\n",
    "    rank = movie.find('td',class_ = \"titleColumn\").get_text(strip=True).split('.')[0]\n",
    "    print(rank)\n",
    "    break"
   ]
  },
  {
   "cell_type": "markdown",
   "id": "5d1aa41f",
   "metadata": {},
   "source": [
    "**To extract the Yaer of the Movie Released**"
   ]
  },
  {
   "cell_type": "code",
   "execution_count": 32,
   "id": "437fd9a6",
   "metadata": {},
   "outputs": [
    {
     "name": "stdout",
     "output_type": "stream",
     "text": [
      "1994\n"
     ]
    }
   ],
   "source": [
    "for movie in movies:\n",
    "    year = movie.find('td',class_ = \"titleColumn\").span.text.strip(\"()\")\n",
    "    print(year)\n",
    "    break"
   ]
  },
  {
   "cell_type": "markdown",
   "id": "61e7f8d1",
   "metadata": {},
   "source": [
    "**To Extract the IMDb rating**"
   ]
  },
  {
   "cell_type": "code",
   "execution_count": 33,
   "id": "e681adeb",
   "metadata": {},
   "outputs": [
    {
     "name": "stdout",
     "output_type": "stream",
     "text": [
      "9.2\n"
     ]
    }
   ],
   "source": [
    "for movie in movies:\n",
    "    rating = movie.find('td',class_ = \"ratingColumn imdbRating\").strong.text\n",
    "    print(rating)\n",
    "    break"
   ]
  },
  {
   "cell_type": "markdown",
   "id": "8bb0653c",
   "metadata": {},
   "source": [
    "**To print everything at one place**\n"
   ]
  },
  {
   "cell_type": "code",
   "execution_count": 34,
   "id": "63ef9b2b",
   "metadata": {},
   "outputs": [
    {
     "name": "stdout",
     "output_type": "stream",
     "text": [
      "1 The Shawshank Redemption 1994 9.2\n"
     ]
    }
   ],
   "source": [
    "print( rank , name , year, rating)"
   ]
  },
  {
   "cell_type": "markdown",
   "id": "bf568ad2",
   "metadata": {},
   "source": [
    "**Create an empty array to store the details**"
   ]
  },
  {
   "cell_type": "code",
   "execution_count": 35,
   "id": "10769482",
   "metadata": {},
   "outputs": [],
   "source": [
    "Rank=[]\n",
    "TitleName=[]\n",
    "Year=[]\n",
    "Rating=[]"
   ]
  },
  {
   "cell_type": "markdown",
   "id": "03c53b05",
   "metadata": {},
   "source": [
    "**To print the 250 Movies**"
   ]
  },
  {
   "cell_type": "code",
   "execution_count": 41,
   "id": "72c98a73",
   "metadata": {},
   "outputs": [],
   "source": [
    "for movie in movies:\n",
    "    \n",
    "    name = movie.find('td',class_ = \"titleColumn\").a.text\n",
    "    \n",
    "    rank = movie.find('td',class_ = \"titleColumn\").get_text(strip=True).split('.')[0]\n",
    "    \n",
    "    year = movie.find('td',class_ = \"titleColumn\").span.text.strip(\"()\")\n",
    "    \n",
    "    rating = movie.find('td',class_ = \"ratingColumn imdbRating\").strong.text\n",
    "    \n",
    "    ##Using append we store the small print within the Array we’ve created before\n",
    "    \n",
    "    Rank.append(rank)\n",
    "    TitleName.append(name)\n",
    "    Year.append(year)\n",
    "    Rating.append(rating)\n",
    "    \n",
    "    df=pd.DataFrame({'Rank' : rank, 'Title' : TitleName,'year':Year,'Rating':Rating})\n",
    "    \n",
    "    df.to_csv('IMDbRatings.csv', index=False, encoding='utf-8')\n",
    "   "
   ]
  },
  {
   "cell_type": "code",
   "execution_count": 42,
   "id": "cfd5eb7b",
   "metadata": {},
   "outputs": [
    {
     "data": {
      "text/html": [
       "<div>\n",
       "<style scoped>\n",
       "    .dataframe tbody tr th:only-of-type {\n",
       "        vertical-align: middle;\n",
       "    }\n",
       "\n",
       "    .dataframe tbody tr th {\n",
       "        vertical-align: top;\n",
       "    }\n",
       "\n",
       "    .dataframe thead th {\n",
       "        text-align: right;\n",
       "    }\n",
       "</style>\n",
       "<table border=\"1\" class=\"dataframe\">\n",
       "  <thead>\n",
       "    <tr style=\"text-align: right;\">\n",
       "      <th></th>\n",
       "      <th>Rank</th>\n",
       "      <th>Title</th>\n",
       "      <th>year</th>\n",
       "      <th>Rating</th>\n",
       "    </tr>\n",
       "  </thead>\n",
       "  <tbody>\n",
       "    <tr>\n",
       "      <th>0</th>\n",
       "      <td>250</td>\n",
       "      <td>The Shawshank Redemption</td>\n",
       "      <td>1994</td>\n",
       "      <td>9.2</td>\n",
       "    </tr>\n",
       "    <tr>\n",
       "      <th>1</th>\n",
       "      <td>250</td>\n",
       "      <td>The Shawshank Redemption</td>\n",
       "      <td>1994</td>\n",
       "      <td>9.2</td>\n",
       "    </tr>\n",
       "    <tr>\n",
       "      <th>2</th>\n",
       "      <td>250</td>\n",
       "      <td>The Godfather</td>\n",
       "      <td>1972</td>\n",
       "      <td>9.2</td>\n",
       "    </tr>\n",
       "    <tr>\n",
       "      <th>3</th>\n",
       "      <td>250</td>\n",
       "      <td>The Dark Knight</td>\n",
       "      <td>2008</td>\n",
       "      <td>9.0</td>\n",
       "    </tr>\n",
       "    <tr>\n",
       "      <th>4</th>\n",
       "      <td>250</td>\n",
       "      <td>The Godfather Part II</td>\n",
       "      <td>1974</td>\n",
       "      <td>9.0</td>\n",
       "    </tr>\n",
       "  </tbody>\n",
       "</table>\n",
       "</div>"
      ],
      "text/plain": [
       "  Rank                     Title  year Rating\n",
       "0  250  The Shawshank Redemption  1994    9.2\n",
       "1  250  The Shawshank Redemption  1994    9.2\n",
       "2  250             The Godfather  1972    9.2\n",
       "3  250           The Dark Knight  2008    9.0\n",
       "4  250     The Godfather Part II  1974    9.0"
      ]
     },
     "execution_count": 42,
     "metadata": {},
     "output_type": "execute_result"
    }
   ],
   "source": [
    "df.head()"
   ]
  },
  {
   "cell_type": "code",
   "execution_count": null,
   "id": "74524861",
   "metadata": {},
   "outputs": [],
   "source": []
  }
 ],
 "metadata": {
  "kernelspec": {
   "display_name": "Python 3 (ipykernel)",
   "language": "python",
   "name": "python3"
  },
  "language_info": {
   "codemirror_mode": {
    "name": "ipython",
    "version": 3
   },
   "file_extension": ".py",
   "mimetype": "text/x-python",
   "name": "python",
   "nbconvert_exporter": "python",
   "pygments_lexer": "ipython3",
   "version": "3.9.12"
  }
 },
 "nbformat": 4,
 "nbformat_minor": 5
}
