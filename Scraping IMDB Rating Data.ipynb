{
 "cells": [
  {
   "cell_type": "markdown",
   "id": "3c754e06",
   "metadata": {},
   "source": [
    "## Importing the Prerequisites"
   ]
  },
  {
   "cell_type": "code",
   "execution_count": null,
   "id": "8bea104e",
   "metadata": {},
   "outputs": [],
   "source": [
    "import requests\n",
    "from bs4 import BeautifulSoup\n",
    "import pandas as pd\n"
   ]
  },
  {
   "cell_type": "markdown",
   "id": "c358ff40",
   "metadata": {},
   "source": [
    "## Getting the HTML link for website"
   ]
  },
  {
   "cell_type": "markdown",
   "id": "e85db633",
   "metadata": {},
   "source": [
    "**From HTML File , We want the Movie name Part**"
   ]
  },
  {
   "cell_type": "code",
   "execution_count": null,
   "id": "4a6ce133",
   "metadata": {
    "scrolled": true
   },
   "outputs": [],
   "source": [
    "try:\n",
    "    response = requests.get('https://www.imdb.com/chart/top/')\n",
    "    response.raise_for_status()\n",
    "    \n",
    "    soup = BeautifulSoup(response.text, 'html.parser')\n",
    "    print(soup)\n",
    "    \n",
    "except Exception as e:\n",
    "        print (e)\n",
    "        \n"
   ]
  },
  {
   "cell_type": "markdown",
   "id": "f0adf561",
   "metadata": {},
   "source": [
    "**To view the data fetched exactly 250 rows**"
   ]
  },
  {
   "cell_type": "code",
   "execution_count": 54,
   "id": "9596f051",
   "metadata": {
    "scrolled": true
   },
   "outputs": [
    {
     "name": "stdout",
     "output_type": "stream",
     "text": [
      "250\n"
     ]
    }
   ],
   "source": [
    "\n",
    "movies = soup.find('tbody', class_ = \"lister-list\").find_all('tr')\n",
    "print(len(movies)) #to accessing the top 250 movies page , Check the length\n",
    "    "
   ]
  },
  {
   "cell_type": "markdown",
   "id": "a16a294c",
   "metadata": {},
   "source": [
    "**To extract the Titles(name) of Movies**"
   ]
  },
  {
   "cell_type": "code",
   "execution_count": 55,
   "id": "04718373",
   "metadata": {},
   "outputs": [
    {
     "name": "stdout",
     "output_type": "stream",
     "text": [
      "The Shawshank Redemption\n"
     ]
    }
   ],
   "source": [
    "for movie in movies:\n",
    "    name = movie.find('td',class_ = \"titleColumn\").a.text\n",
    "    print(name)\n",
    "    break"
   ]
  },
  {
   "cell_type": "code",
   "execution_count": null,
   "id": "0300e37e",
   "metadata": {},
   "outputs": [],
   "source": []
  },
  {
   "cell_type": "markdown",
   "id": "6a67dfb1",
   "metadata": {},
   "source": [
    "\n",
    "\n",
    "**To extract the Year of the Movie Released**"
   ]
  },
  {
   "cell_type": "code",
   "execution_count": 57,
   "id": "437fd9a6",
   "metadata": {},
   "outputs": [
    {
     "name": "stdout",
     "output_type": "stream",
     "text": [
      "1994\n"
     ]
    }
   ],
   "source": [
    "for movie in movies:\n",
    "    year = movie.find('td',class_ = \"titleColumn\").span.text.strip(\"()\")\n",
    "    print(year)\n",
    "    break"
   ]
  },
  {
   "cell_type": "markdown",
   "id": "61e7f8d1",
   "metadata": {},
   "source": [
    "**To Extract the IMDb rating**"
   ]
  },
  {
   "cell_type": "code",
   "execution_count": 58,
   "id": "e681adeb",
   "metadata": {},
   "outputs": [
    {
     "name": "stdout",
     "output_type": "stream",
     "text": [
      "9.2\n"
     ]
    }
   ],
   "source": [
    "for movie in movies:\n",
    "    rating = movie.find('td',class_ = \"ratingColumn imdbRating\").strong.text\n",
    "    print(rating)\n",
    "    break"
   ]
  },
  {
   "cell_type": "markdown",
   "id": "8bb0653c",
   "metadata": {},
   "source": [
    "**To print everything at one place**\n"
   ]
  },
  {
   "cell_type": "code",
   "execution_count": 68,
   "id": "63ef9b2b",
   "metadata": {},
   "outputs": [
    {
     "name": "stdout",
     "output_type": "stream",
     "text": [
      "The Iron Giant 1999 8.0\n"
     ]
    }
   ],
   "source": [
    "print(  name , year, rating)"
   ]
  },
  {
   "cell_type": "markdown",
   "id": "bf568ad2",
   "metadata": {},
   "source": [
    "**Create an empty array to store the details**"
   ]
  },
  {
   "cell_type": "code",
   "execution_count": 69,
   "id": "10769482",
   "metadata": {},
   "outputs": [],
   "source": [
    "TitleName=[]\n",
    "Year=[]\n",
    "Rating=[]"
   ]
  },
  {
   "cell_type": "markdown",
   "id": "03c53b05",
   "metadata": {},
   "source": [
    "**To print the 250 Movies**"
   ]
  },
  {
   "cell_type": "code",
   "execution_count": 79,
   "id": "72c98a73",
   "metadata": {},
   "outputs": [],
   "source": [
    "for movie in movies:\n",
    "    \n",
    "    name = movie.find('td',class_ = \"titleColumn\").a.text\n",
    "    \n",
    "    year = movie.find('td',class_ = \"titleColumn\").span.text.strip(\"()\")\n",
    "    \n",
    "    rating = movie.find('td',class_ = \"ratingColumn imdbRating\").strong.text\n",
    "    \n",
    "    ##Using append we store the small print within the Array we’ve created before\n",
    "    \n",
    "    \n",
    "    TitleName.append(name)\n",
    "    Year.append(year)\n",
    "    Rating.append(rating)\n",
    "    \n",
    "    df=pd.DataFrame({'Title' : TitleName,'year':Year,'Rating':Rating})\n",
    "    \n",
    "    df.to_csv('IMDbRating.csv', index=False, encoding='utf-8')\n",
    "   "
   ]
  },
  {
   "cell_type": "code",
   "execution_count": 80,
   "id": "cfd5eb7b",
   "metadata": {},
   "outputs": [
    {
     "data": {
      "text/html": [
       "<div>\n",
       "<style scoped>\n",
       "    .dataframe tbody tr th:only-of-type {\n",
       "        vertical-align: middle;\n",
       "    }\n",
       "\n",
       "    .dataframe tbody tr th {\n",
       "        vertical-align: top;\n",
       "    }\n",
       "\n",
       "    .dataframe thead th {\n",
       "        text-align: right;\n",
       "    }\n",
       "</style>\n",
       "<table border=\"1\" class=\"dataframe\">\n",
       "  <thead>\n",
       "    <tr style=\"text-align: right;\">\n",
       "      <th></th>\n",
       "      <th>Title</th>\n",
       "      <th>year</th>\n",
       "      <th>Rating</th>\n",
       "    </tr>\n",
       "  </thead>\n",
       "  <tbody>\n",
       "    <tr>\n",
       "      <th>0</th>\n",
       "      <td>The Shawshank Redemption</td>\n",
       "      <td>1994</td>\n",
       "      <td>9.2</td>\n",
       "    </tr>\n",
       "    <tr>\n",
       "      <th>1</th>\n",
       "      <td>The Godfather</td>\n",
       "      <td>1972</td>\n",
       "      <td>9.2</td>\n",
       "    </tr>\n",
       "    <tr>\n",
       "      <th>2</th>\n",
       "      <td>The Dark Knight</td>\n",
       "      <td>2008</td>\n",
       "      <td>9.0</td>\n",
       "    </tr>\n",
       "    <tr>\n",
       "      <th>3</th>\n",
       "      <td>The Godfather Part II</td>\n",
       "      <td>1974</td>\n",
       "      <td>9.0</td>\n",
       "    </tr>\n",
       "    <tr>\n",
       "      <th>4</th>\n",
       "      <td>12 Angry Men</td>\n",
       "      <td>1957</td>\n",
       "      <td>8.9</td>\n",
       "    </tr>\n",
       "  </tbody>\n",
       "</table>\n",
       "</div>"
      ],
      "text/plain": [
       "                      Title  year Rating\n",
       "0  The Shawshank Redemption  1994    9.2\n",
       "1             The Godfather  1972    9.2\n",
       "2           The Dark Knight  2008    9.0\n",
       "3     The Godfather Part II  1974    9.0\n",
       "4              12 Angry Men  1957    8.9"
      ]
     },
     "execution_count": 80,
     "metadata": {},
     "output_type": "execute_result"
    }
   ],
   "source": [
    "df.head()"
   ]
  },
  {
   "cell_type": "code",
   "execution_count": null,
   "id": "74524861",
   "metadata": {},
   "outputs": [],
   "source": []
  }
 ],
 "metadata": {
  "kernelspec": {
   "display_name": "Python 3 (ipykernel)",
   "language": "python",
   "name": "python3"
  },
  "language_info": {
   "codemirror_mode": {
    "name": "ipython",
    "version": 3
   },
   "file_extension": ".py",
   "mimetype": "text/x-python",
   "name": "python",
   "nbconvert_exporter": "python",
   "pygments_lexer": "ipython3",
   "version": "3.9.12"
  }
 },
 "nbformat": 4,
 "nbformat_minor": 5
}
